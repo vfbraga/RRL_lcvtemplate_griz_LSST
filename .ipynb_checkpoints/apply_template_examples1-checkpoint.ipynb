{
 "cells": [
  {
   "cell_type": "markdown",
   "id": "70be0738",
   "metadata": {},
   "source": [
    "# Examples for using the RR Lyrae LSST griz templates by [Braga+ 2024]\n",
    "\n",
    "This notebook will guide the user in all the possible cases in which it is possible to apply the RR Lyrae LSST templates. The aim is always to derive a mean magnitude from\n",
    "\n",
    "1) A few magnitude measurements in LSST (see details for each case)\n",
    "\n",
    "2) The knowledge of pulsation properties from other data (see details for each case)"
   ]
  },
  {
   "cell_type": "code",
   "execution_count": 11,
   "id": "c66fa134",
   "metadata": {},
   "outputs": [],
   "source": [
    "# Note that RV_template_function imports the module mpfit, \n",
    "# which is a third-party product, available within astrolibpy\n",
    "import apply_ugrizy_templates\n",
    "import numpy as np\n",
    "import matplotlib.pyplot as plt\n",
    "import pandas as pd\n",
    "from PyPDF2 import PdfMerger\n",
    "import os"
   ]
  },
  {
   "cell_type": "markdown",
   "id": "316c39e3",
   "metadata": {},
   "source": [
    "First of all, set up the folder in which you will be working"
   ]
  },
  {
   "cell_type": "code",
   "execution_count": 12,
   "id": "1b2da33d",
   "metadata": {},
   "outputs": [],
   "source": [
    "folder = os.getcwd()+'/' #To be changed by the user\n",
    "folder_coefficient_table = os.getcwd()+'/' #To be changed by the user\n",
    "folder_rrls = folder_coefficient_table+'test/' #To be changed by the user\n",
    "folder_coeff = folder #To be eventually changed by the user\n",
    "folder_rvcs = folder_rrls+'rvcs/'\n",
    "file_coeff = folder+'templates_analytics_230901.csv'"
   ]
  },
  {
   "cell_type": "markdown",
   "id": "cec95e23",
   "metadata": {},
   "source": [
    "The following three cases will be discussed\n",
    "\n",
    "1) When only one mag measurement is available. The template must be anchored to the point.\n",
    "\n",
    "2) When two mag measurements,are available. In this case, the technique to adopt is identical. The template must be anchored to the points, recursively, and the mean magnitude should be derived as the average mean magnitudes of the two LCTs.\n",
    "\n",
    "3) When three or more mag measurements are available. The template must be used as a fitting function with two free parameters (DeltaPhase, DeltaMag).\n",
    "\n",
    "4) When four or more mag measurements are available. The template must be used as a fitting function with three free parameters (DeltaPhase, DeltaMag, Ampl)."
   ]
  },
  {
   "cell_type": "markdown",
   "id": "bacb86a9",
   "metadata": {},
   "source": [
    "## Case 1: One magnitude measurement available\n",
    "\n",
    "In this case, it is mandatory to know the full pulsation properties of the variable: Period, amplitude and epoch of reference. The templates are anchored to the epoch of mean magnitude on the rising branch ($t_{mean}^{ris}$) but we provide also a relation in case only the more classic epoch of maximum light was available ($t_{max}$)."
   ]
  },
  {
   "cell_type": "code",
   "execution_count": 3,
   "id": "bab232f1",
   "metadata": {},
   "outputs": [
    {
     "name": "stdout",
     "output_type": "stream",
     "text": [
      "[15.443244266240912]\n",
      "[0.014000625221476208]\n",
      "Mean mag: 15.443+-0.014\n"
     ]
    }
   ],
   "source": [
    "pulsation_period = 0.59031000\n",
    "t0 = 2456423.8564 # Epoch of the mean magnitude on the rising branch\n",
    "pulsation_type = 0\n",
    "amplitude_for_template = 0.65\n",
    "passband = 3\n",
    "\n",
    "hjd = np.asarray([2457116.7218])\n",
    "mag = np.asarray([15.6200])\n",
    "err = np.asarray([0.0140])\n",
    "phase = ((hjd - t0)/pulsation_period) % 1\n",
    "\n",
    "templatebin_int = apply_ugrizy_templates.find_templatebin(pulsation_type, \n",
    "                                                          pulsation_period, \n",
    "                                                          passband)[0]\n",
    "\n",
    "result_resample = apply_ugrizy_templates.anchor_template(hjd, mag, err, pulsation_type,\n",
    "                                    pulsation_period, t0, passband, amplitude_for_template, \n",
    "                                    file_coeff, figure_out=folder+'test1.pdf')\n",
    "\n",
    "print('Mean mag: {:6.3f}+-{:5.3f}'.format(result_resample['mean_mag_mean'], result_resample['mean_mag_err']))"
   ]
  },
  {
   "cell_type": "markdown",
   "id": "de72a74e",
   "metadata": {},
   "source": [
    "## Case 2: Two magnitude measurements available\n",
    "\n",
    "In this case, it is mandatory to know the full pulsation properties of the variable: Period, amplitude and epoch of reference. The templates are anchored to the epoch of mean magnitude on the rising branch ($t_{mean}^{ris}$) but we provide also a relation in case only the more classic epoch of maximum was available ($t_{max}$)."
   ]
  },
  {
   "cell_type": "code",
   "execution_count": 5,
   "id": "30f1d226",
   "metadata": {},
   "outputs": [
    {
     "name": "stdout",
     "output_type": "stream",
     "text": [
      "[15.443244266240912, 15.392779961066804]\n",
      "[0.014000625221476208, 0.013000673313034047]\n",
      "Mean mag: 15.418+-0.036\n"
     ]
    }
   ],
   "source": [
    "pulsation_period = 0.59031000\n",
    "t0 = 2456423.8564 # Epoch of the mean magnitude on the rising branch\n",
    "pulsation_type = 0\n",
    "amplitude_for_template = 0.65\n",
    "passband = 3\n",
    "\n",
    "hjd = np.asarray([2457116.7218, 2456453.8418])\n",
    "mag = np.asarray([15.6200, 15.5830])\n",
    "err = np.asarray([0.0140, 0.0130])\n",
    "phase = ((hjd - t0)/pulsation_period) % 1\n",
    "\n",
    "templatebin_int = apply_ugrizy_templates.find_templatebin(pulsation_type, \n",
    "                                                          pulsation_period, \n",
    "                                                          passband)[0]\n",
    "\n",
    "result_resample = apply_ugrizy_templates.anchor_template(hjd, mag, err, pulsation_type,\n",
    "                                    pulsation_period, t0, passband, amplitude_for_template, \n",
    "                                    file_coeff, figure_out=folder+'test2.pdf')\n",
    "\n",
    "print('Mean mag: {:6.3f}+-{:5.3f}'.format(result_resample['mean_mag_mean'], result_resample['mean_mag_err']))"
   ]
  },
  {
   "cell_type": "code",
   "execution_count": 4,
   "id": "d1ccd490",
   "metadata": {},
   "outputs": [
    {
     "ename": "IndentationError",
     "evalue": "unexpected indent (1674883185.py, line 16)",
     "output_type": "error",
     "traceback": [
      "\u001b[0;36m  Input \u001b[0;32mIn [4]\u001b[0;36m\u001b[0m\n\u001b[0;31m    result_resample = apply_ugrizy_templates.apply_templatefit(hjd, mag, err, pulsation_type,\u001b[0m\n\u001b[0m    ^\u001b[0m\n\u001b[0;31mIndentationError\u001b[0m\u001b[0;31m:\u001b[0m unexpected indent\n"
     ]
    }
   ],
   "source": [
    "## METTERE IN UNA FUNZIONE\n",
    "\n",
    "if pulsation_type == 0:\n",
    "    amplmaxs = {2: 1.8, 3: 1.5, 4: 1.1, 5: 1.1}\n",
    "    amplmins = {2: .2, 3: .15, 4: .1, 5: .1}\n",
    "    amplratio_ogle_to_use = 'Ampl(x)/Ampl(I)_ab'\n",
    "else:\n",
    "    amplmaxs = {2: .9, 3: .7, 4: .55, 5: 1.1}\n",
    "    amplmins = {2: .1, 3: .05, 4: 0., 5: 0.}    \n",
    "    amplratio_ogle_to_use = 'Ampl(x)/Ampl(I)_c'\n",
    "\n",
    "# # XXX Visto che ho dimostrato l'uguaglianza tra ZTF e LSST, posso prendere amplratio_ZTF_OGLE\n",
    "# df_amplratios_LSST_OGLE = pd.read_csv(folder+'amplratio_ZTF_OGLE.csv')\n",
    "\n",
    "# # Fixed amplitude\n",
    "#         result_resample = apply_ugrizy_templates.apply_templatefit(hjd, mag, err, pulsation_type,\n",
    "#                                            pulsation_period, t0_temp, passband,\n",
    "#                                             file_coeff, free_amplitude=False, ampl_to_use)\n",
    "\n",
    "# # # Free amplitude\n",
    "# # result_resample = apply_ugrizy_templates.apply_templatefit(hjd, \n",
    "# #                                     mag, err, pulsation_type,\n",
    "# #                                     pulsation_period, t0_temp, passband,\n",
    "# #                                     file_coeff, ampl=(amplmaxs[passband]+amplmins[passband])/2.,\n",
    "# #                                     amplmax=amplmaxs[passband], amplmin=amplmins[passband])"
   ]
  },
  {
   "cell_type": "markdown",
   "id": "51e8997a",
   "metadata": {},
   "source": [
    "## Case 3: Three or more magnitude measurements available\n",
    "\n",
    "When three or more mag measurements are available for one target, it is possible to use the template not by anchoring it to a given epoch, but as a fitting function, leaving two free parameters: the phase displacement and the mean mag displacement. In this case, only Period, and amplitude are needed as previous knowledge. Note that the function apply_template_templfit_amplfixed takes as input t0, but this can be arbitrary and only affects visualization and not the results."
   ]
  },
  {
   "cell_type": "code",
   "execution_count": 18,
   "id": "165e6add",
   "metadata": {},
   "outputs": [
    {
     "name": "stdout",
     "output_type": "stream",
     "text": [
      "Mean mag: 15.476+-0.009\n"
     ]
    }
   ],
   "source": [
    "pulsation_period = 0.59031000\n",
    "t0 = 2456423.8564 # Epoch of the mean magnitude on the rising branch\n",
    "pulsation_type = 0\n",
    "amplitude_for_template = 0.65\n",
    "passband = 3\n",
    "\n",
    "hjd = np.asarray([2457116.7218, 2457114.7496, 2457115.8305])\n",
    "mag = np.asarray([15.6200, 15.4260, 15.1980])\n",
    "err = np.asarray([0.0140, 0.0130, 0.0140])\n",
    "phase = ((hjd - t0)/pulsation_period) % 1\n",
    "\n",
    "templatebin_int = apply_ugrizy_templates.find_templatebin(pulsation_type, \n",
    "                                                          pulsation_period, \n",
    "                                                          passband)[0]\n",
    "result_resample = apply_ugrizy_templates.apply_templatefit(hjd, mag, err,\n",
    "                                    pulsation_type, pulsation_period, t0, passband, \n",
    "                                    file_coeff, free_amplitude=False, \n",
    "                                    ampl=amplitude_for_template, \n",
    "                                    figure_out=folder+'test3.pdf')\n",
    "\n",
    "print('Mean mag: {:6.3f}+-{:5.3f}'.format(result_resample['mag_mean'], result_resample['errmag_mean']))"
   ]
  },
  {
   "cell_type": "markdown",
   "id": "1fa6f048",
   "metadata": {},
   "source": [
    "## Case 4: Four or more magnitude measurements available\n",
    "\n",
    "When three or more mag measurements are available for one target, it is possible to use the template not by anchoring it to a given epoch, but as a fitting function, leaving three free parameters: the phase displacement, the mean mag displacement and the amplitude. In this case, only Period, is needed as previous knowledge."
   ]
  },
  {
   "cell_type": "code",
   "execution_count": 20,
   "id": "69667588",
   "metadata": {},
   "outputs": [
    {
     "ename": "NameError",
     "evalue": "name 'amplmaxs' is not defined",
     "output_type": "error",
     "traceback": [
      "\u001b[0;31m---------------------------------------------------------------------------\u001b[0m",
      "\u001b[0;31mNameError\u001b[0m                                 Traceback (most recent call last)",
      "Input \u001b[0;32mIn [20]\u001b[0m, in \u001b[0;36m<cell line: 15>\u001b[0;34m()\u001b[0m\n\u001b[1;32m     10\u001b[0m phase \u001b[38;5;241m=\u001b[39m ((hjd \u001b[38;5;241m-\u001b[39m t0)\u001b[38;5;241m/\u001b[39mpulsation_period) \u001b[38;5;241m%\u001b[39m \u001b[38;5;241m1\u001b[39m\n\u001b[1;32m     12\u001b[0m templatebin_int \u001b[38;5;241m=\u001b[39m apply_ugrizy_templates\u001b[38;5;241m.\u001b[39mfind_templatebin(pulsation_type, \n\u001b[1;32m     13\u001b[0m                                                           pulsation_period, \n\u001b[1;32m     14\u001b[0m                                                           passband)[\u001b[38;5;241m0\u001b[39m]\n\u001b[1;32m     15\u001b[0m result_resample \u001b[38;5;241m=\u001b[39m apply_ugrizy_templates\u001b[38;5;241m.\u001b[39mapply_templatefit(hjd, mag, err,\n\u001b[1;32m     16\u001b[0m                                     pulsation_type, pulsation_period, t0, passband, \n\u001b[0;32m---> 17\u001b[0m                                     file_coeff, ampl\u001b[38;5;241m=\u001b[39m(\u001b[43mamplmaxs\u001b[49m[passband]\u001b[38;5;241m+\u001b[39mamplmins[passband])\u001b[38;5;241m/\u001b[39m\u001b[38;5;241m2.\u001b[39m,\n\u001b[1;32m     18\u001b[0m                                     amplmax\u001b[38;5;241m=\u001b[39mamplmaxs[passband], amplmin\u001b[38;5;241m=\u001b[39mamplmins[passband], \n\u001b[1;32m     19\u001b[0m                                     figure_out\u001b[38;5;241m=\u001b[39mfolder\u001b[38;5;241m+\u001b[39m\u001b[38;5;124m'\u001b[39m\u001b[38;5;124mtest4.pdf\u001b[39m\u001b[38;5;124m'\u001b[39m)\n\u001b[1;32m     21\u001b[0m \u001b[38;5;28mprint\u001b[39m(\u001b[38;5;124m'\u001b[39m\u001b[38;5;124mMean mag: \u001b[39m\u001b[38;5;132;01m{:6.3f}\u001b[39;00m\u001b[38;5;124m+-\u001b[39m\u001b[38;5;132;01m{:5.3f}\u001b[39;00m\u001b[38;5;124m'\u001b[39m\u001b[38;5;241m.\u001b[39mformat(result_resample[\u001b[38;5;124m'\u001b[39m\u001b[38;5;124mmag_mean\u001b[39m\u001b[38;5;124m'\u001b[39m], result_resample[\u001b[38;5;124m'\u001b[39m\u001b[38;5;124merrmag_mean\u001b[39m\u001b[38;5;124m'\u001b[39m]))\n",
      "\u001b[0;31mNameError\u001b[0m: name 'amplmaxs' is not defined"
     ]
    }
   ],
   "source": [
    "pulsation_period = 0.59031000\n",
    "t0 = 2456423.8564 # Epoch of the mean magnitude on the rising branch\n",
    "pulsation_type = 0\n",
    "amplitude_for_template = 0.65\n",
    "passband = 3\n",
    "\n",
    "hjd = np.asarray([2457116.7218, 2457114.7496, 2457115.8305, 2457116.8515])\n",
    "mag = np.asarray([15.6200, 15.4260, 15.1980, 15.6980])\n",
    "err = np.asarray([0.0140, 0.0130, 0.0140, 0.0140])\n",
    "phase = ((hjd - t0)/pulsation_period) % 1\n",
    "\n",
    "templatebin_int = apply_ugrizy_templates.find_templatebin(pulsation_type, \n",
    "                                                          pulsation_period, \n",
    "                                                          passband)[0]\n",
    "result_resample = apply_ugrizy_templates.apply_templatefit(hjd, mag, err,\n",
    "                                    pulsation_type, pulsation_period, t0, passband, \n",
    "                                    file_coeff, ampl=(amplmaxs[passband]+amplmins[passband])/2.,\n",
    "                                    amplmax=amplmaxs[passband], amplmin=amplmins[passband], \n",
    "                                    figure_out=folder+'test4.pdf')\n",
    "\n",
    "print('Mean mag: {:6.3f}+-{:5.3f}'.format(result_resample['mag_mean'], result_resample['errmag_mean']))"
   ]
  }
 ],
 "metadata": {
  "kernelspec": {
   "display_name": "Python 3 (ipykernel)",
   "language": "python",
   "name": "python3"
  },
  "language_info": {
   "codemirror_mode": {
    "name": "ipython",
    "version": 3
   },
   "file_extension": ".py",
   "mimetype": "text/x-python",
   "name": "python",
   "nbconvert_exporter": "python",
   "pygments_lexer": "ipython3",
   "version": "3.8.10"
  }
 },
 "nbformat": 4,
 "nbformat_minor": 5
}
